{
  "nbformat": 4,
  "nbformat_minor": 0,
  "metadata": {
    "colab": {
      "provenance": [],
      "include_colab_link": true
    },
    "kernelspec": {
      "name": "python3",
      "display_name": "Python 3"
    },
    "language_info": {
      "name": "python"
    }
  },
  "cells": [
    {
      "cell_type": "markdown",
      "metadata": {
        "id": "view-in-github",
        "colab_type": "text"
      },
      "source": [
        "<a href=\"https://colab.research.google.com/github/zaki-m-khan/swytchstation2B/blob/main/resume-data.ipynb\" target=\"_parent\"><img src=\"https://colab.research.google.com/assets/colab-badge.svg\" alt=\"Open In Colab\"/></a>"
      ]
    },
    {
      "cell_type": "code",
      "execution_count": 45,
      "metadata": {
        "id": "5WJDlOCJHN8n"
      },
      "outputs": [],
      "source": [
        "#import statements\n",
        "import os\n",
        "import pandas as pd\n",
        "import numpy as np\n",
        "%matplotlib inline\n",
        "import matplotlib.pyplot as plt\n",
        "import seaborn as sns\n",
        "import scipy.stats as stats"
      ]
    },
    {
      "cell_type": "code",
      "source": [
        "#reading in the data\n",
        "file_path = \"data/UpdatedResumeDataSet.csv\"\n",
        "df = pd.read_csv(file_path)"
      ],
      "metadata": {
        "id": "09GfBVglO7za"
      },
      "execution_count": 48,
      "outputs": []
    },
    {
      "cell_type": "code",
      "source": [
        "!rm -rf swytchstation2B"
      ],
      "metadata": {
        "id": "wyCzX82OwuDp"
      },
      "execution_count": 58,
      "outputs": []
    },
    {
      "cell_type": "code",
      "source": [
        "from google.colab import drive\n",
        "drive.mount('/content/drive')"
      ],
      "metadata": {
        "id": "2OP1nPeBQ-Ta",
        "colab": {
          "base_uri": "https://localhost:8080/"
        },
        "outputId": "9d821097-aa07-4847-bf4c-33cb334b876f"
      },
      "execution_count": 49,
      "outputs": [
        {
          "output_type": "stream",
          "name": "stdout",
          "text": [
            "Drive already mounted at /content/drive; to attempt to forcibly remount, call drive.mount(\"/content/drive\", force_remount=True).\n"
          ]
        }
      ]
    },
    {
      "cell_type": "code",
      "source": [
        "# look at data\n",
        "# df.head(15)\n",
        "df['Category'].unique()"
      ],
      "metadata": {
        "id": "xScl6EqYPBBU",
        "colab": {
          "base_uri": "https://localhost:8080/"
        },
        "outputId": "176db283-1f8f-487b-fdac-679780ab6aa0"
      },
      "execution_count": 50,
      "outputs": [
        {
          "output_type": "execute_result",
          "data": {
            "text/plain": [
              "array(['Data Science', 'HR', 'Advocate', 'Arts', 'Web Designing',\n",
              "       'Mechanical Engineer', 'Sales', 'Health and fitness',\n",
              "       'Civil Engineer', 'Java Developer', 'Business Analyst',\n",
              "       'SAP Developer', 'Automation Testing', 'Electrical Engineering',\n",
              "       'Operations Manager', 'Python Developer', 'DevOps Engineer',\n",
              "       'Network Security Engineer', 'PMO', 'Database', 'Hadoop',\n",
              "       'ETL Developer', 'DotNet Developer', 'Blockchain', 'Testing'],\n",
              "      dtype=object)"
            ]
          },
          "metadata": {},
          "execution_count": 50
        }
      ]
    },
    {
      "cell_type": "code",
      "source": [
        "#cleaning the dataset\n",
        "df_clean = df[~df['Category'].isin(['Arts', 'HR', 'Health and fitness', 'Advocate'])]\n",
        "print(df_clean)"
      ],
      "metadata": {
        "id": "jVz6ZkFyPNXO",
        "colab": {
          "base_uri": "https://localhost:8080/"
        },
        "outputId": "09808ccf-4224-4c4e-d8b0-7c96d409117f"
      },
      "execution_count": 51,
      "outputs": [
        {
          "output_type": "stream",
          "name": "stdout",
          "text": [
            "         Category                                             Resume\n",
            "0    Data Science  Skills * Programming Languages: Python (pandas...\n",
            "1    Data Science  Education Details \\r\\nMay 2013 to May 2017 B.E...\n",
            "2    Data Science  Areas of Interest Deep Learning, Control Syste...\n",
            "3    Data Science  Skills â¢ R â¢ Python â¢ SAP HANA â¢ Table...\n",
            "4    Data Science  Education Details \\r\\n MCA   YMCAUST,  Faridab...\n",
            "..            ...                                                ...\n",
            "957       Testing  Computer Skills: â¢ Proficient in MS office (...\n",
            "958       Testing  â Willingness to accept the challenges. â ...\n",
            "959       Testing  PERSONAL SKILLS â¢ Quick learner, â¢ Eagerne...\n",
            "960       Testing  COMPUTER SKILLS & SOFTWARE KNOWLEDGE MS-Power ...\n",
            "961       Testing  Skill Set OS Windows XP/7/8/8.1/10 Database MY...\n",
            "\n",
            "[832 rows x 2 columns]\n"
          ]
        }
      ]
    },
    {
      "cell_type": "code",
      "source": [
        "print (\"Displaying the distinct categories of resume and the number of records belonging to each category:\\n\\n\")\n",
        "print (df_clean['Category'].value_counts())"
      ],
      "metadata": {
        "id": "Z_Ep8VqNcP4a",
        "colab": {
          "base_uri": "https://localhost:8080/"
        },
        "outputId": "32ded113-be3f-4e66-a690-ab468c6ae15d"
      },
      "execution_count": 52,
      "outputs": [
        {
          "output_type": "stream",
          "name": "stdout",
          "text": [
            "Displaying the distinct categories of resume and the number of records belonging to each category:\n",
            "\n",
            "\n",
            "Category\n",
            "Java Developer               84\n",
            "Testing                      70\n",
            "DevOps Engineer              55\n",
            "Python Developer             48\n",
            "Web Designing                45\n",
            "Hadoop                       42\n",
            "Sales                        40\n",
            "Mechanical Engineer          40\n",
            "Data Science                 40\n",
            "Blockchain                   40\n",
            "ETL Developer                40\n",
            "Operations Manager           40\n",
            "Database                     33\n",
            "Electrical Engineering       30\n",
            "PMO                          30\n",
            "DotNet Developer             28\n",
            "Business Analyst             28\n",
            "Automation Testing           26\n",
            "Network Security Engineer    25\n",
            "Civil Engineer               24\n",
            "SAP Developer                24\n",
            "Name: count, dtype: int64\n"
          ]
        }
      ]
    },
    {
      "cell_type": "code",
      "source": [
        "df['Resume'] = df['Resume'].str.replace(r'[^\\x00-\\x7F]+', ' ', regex=True)  # remove non-ASCII\n",
        "df['Resume'] = df['Resume'].str.replace(r'\\\\r\\\\n', ' ', regex=True)         # remove literal '\\r\\n'\n",
        "df['Resume'] = df['Resume'].str.replace(r'\\s+', ' ', regex=True).str.strip() # clean up whitespace\n",
        "\n",
        "print(df['Resume'].head())"
      ],
      "metadata": {
        "id": "l0M_oI6cW_1e",
        "colab": {
          "base_uri": "https://localhost:8080/"
        },
        "outputId": "cfd3d95c-9bea-4eb5-c420-ef61c82f6c25"
      },
      "execution_count": 53,
      "outputs": [
        {
          "output_type": "stream",
          "name": "stdout",
          "text": [
            "0    Skills * Programming Languages: Python (pandas...\n",
            "1    Education Details May 2013 to May 2017 B.E UIT...\n",
            "2    Areas of Interest Deep Learning, Control Syste...\n",
            "3    Skills R Python SAP HANA Tableau SAP HANA SQL ...\n",
            "4    Education Details MCA YMCAUST, Faridabad, Hary...\n",
            "Name: Resume, dtype: object\n"
          ]
        }
      ]
    },
    {
      "cell_type": "code",
      "source": [
        "# drop duplicate resumes\n",
        "df = df.drop_duplicates(subset='Resume', keep='first')\n",
        "df.duplicated(subset='Resume').sum()"
      ],
      "metadata": {
        "id": "HfUsAgFHi23-",
        "colab": {
          "base_uri": "https://localhost:8080/"
        },
        "outputId": "91aab6cf-09ea-4ee3-b49f-786e7e66c0f5"
      },
      "execution_count": 54,
      "outputs": [
        {
          "output_type": "execute_result",
          "data": {
            "text/plain": [
              "np.int64(0)"
            ]
          },
          "metadata": {},
          "execution_count": 54
        }
      ]
    },
    {
      "cell_type": "code",
      "source": [
        "skills_list = [\n",
        "    \"machine learning\", \"deep learning\", \"data visualization\", \"data analysis\",\n",
        "    \"data engineering\", \"data mining\", \"feature engineering\",\n",
        "    \"statistical modeling\", \"predictive modeling\", \"object oriented programming\",\n",
        "    \"software engineering\", \"web development\", \"backend development\",\n",
        "    \"frontend development\", \"cloud computing\", \"devops\", \"nlp\", \"computer vision\",\n",
        "    \"project management\", \"time management\", \"problem solving\",\n",
        "    \"communication\", \"collaboration\", \"leadership\", \"teamwork\",\n",
        "    \"critical thinking\", \"troubleshooting\", \"research\", \"testing\"\n",
        "]\n",
        "\n",
        "tools_list = [\n",
        "    # programming languages\n",
        "    \"python\", \"java\", \"c\", \"c++\", \"c#\", \"r\", \"scala\", \"typescript\", \"javascript\",\n",
        "    # data science / ml tools\n",
        "    \"pandas\", \"numpy\", \"matplotlib\", \"tensorflow\", \"pytorch\", \"keras\", \"xgboost\",\n",
        "    \"scikit-learn\", \"spss\", \"sas\", \"stata\", \"tableau\", \"power bi\", \"looker\",\n",
        "    # databases\n",
        "    \"sql\", \"mysql\", \"postgresql\", \"mongodb\", \"sqlite\", \"snowflake\", \"bigquery\", \"redshift\",\n",
        "    # devops / cloud\n",
        "    \"aws\", \"azure\", \"gcp\", \"docker\", \"kubernetes\", \"jenkins\", \"terraform\", \"ansible\",\n",
        "    \"git\", \"github\", \"gitlab\", \"bitbucket\", \"linux\",\n",
        "    # web frameworks\n",
        "    \"flask\", \"django\", \"express\", \"spring boot\", \"fastapi\", \"node.js\", \"react\", \"vue\", \"angular\",\n",
        "    # ai / visualization\n",
        "    \"opencv\", \"powerpoint\", \"excel\", \"figma\", \"canva\", \"jira\", \"asana\", \"notion\"\n",
        "]\n",
        "\n",
        "education_list = [\n",
        "    \"Bachelors\", \"Bachelor's\", \"B.Sc\", \"BS\", \"BA\", \"B.Tech.\", \"B.E.\", \"B.Tech\", \"B.E\",\n",
        "    \"Masters\", \"Master's\", \"M.Sc\", \"MS\", \"MBA\",\n",
        "    \"PhD\", \"Doctorate\", \"High School\",\n",
        "    \"Diploma\", \"Certification\"\n",
        "]\n",
        "\n",
        "degree_map = {\n",
        "    \"Bachelors\": \"Bachelors\",\n",
        "    \"Bachelor's\": \"Bachelors\",\n",
        "    \"BS\": \"Bachelors\",\n",
        "    \"B.Sc\": \"Bachelors\",\n",
        "    \"B.Tech.\": \"Bachelors\",\n",
        "    \"B.E.\": \"Bachelors\",\n",
        "    \"B.Tech\": \"Bachelors\",\n",
        "    \"B.E\": \"Bachelors\",\n",
        "    \"Masters\": \"Masters\",\n",
        "    \"Master's\": \"Masters\",\n",
        "    \"MS\": \"Masters\",\n",
        "    \"M.Sc\": \"Masters\",\n",
        "    \"MBA\": \"Masters\",\n",
        "    \"PhD\": \"PhD\",\n",
        "    \"Doctorate\": \"PhD\"\n",
        "}\n",
        "\n",
        "import re\n",
        "\n",
        "def extract_keywords(text, keywords):\n",
        "    found = []\n",
        "    for word in keywords:\n",
        "        # case insensitive search\n",
        "        if re.search(r'\\b' + re.escape(word) + r'\\b', text, flags=re.IGNORECASE):\n",
        "            found.append(word)\n",
        "    return \", \".join(found) if found else None\n",
        "\n",
        "df['Skills'] = df['Resume'].apply(lambda x: extract_keywords(str(x), skills_list))\n",
        "df['Tools'] = df['Resume'].apply(lambda x: extract_keywords(str(x), tools_list))\n",
        "df['Education'] = df['Resume'].apply(lambda x: extract_keywords(str(x), education_list))\n",
        "\n",
        "# degree mapping\n",
        "df['Education'] = df['Education'].apply(lambda x: \", \".join([degree_map.get(word, word) for word in str(x).split(\", \")]))\n",
        "\n",
        "df[['Resume', 'Skills', 'Tools', 'Education']].head()"
      ],
      "metadata": {
        "id": "KT7-brNEeOwB",
        "colab": {
          "base_uri": "https://localhost:8080/",
          "height": 206
        },
        "outputId": "ca24ae59-d71a-40f6-8815-7b2919dd3040"
      },
      "execution_count": 55,
      "outputs": [
        {
          "output_type": "execute_result",
          "data": {
            "text/plain": [
              "                                              Resume  \\\n",
              "0  Skills * Programming Languages: Python (pandas...   \n",
              "1  Education Details May 2013 to May 2017 B.E UIT...   \n",
              "2  Areas of Interest Deep Learning, Control Syste...   \n",
              "3  Skills R Python SAP HANA Tableau SAP HANA SQL ...   \n",
              "4  Education Details MCA YMCAUST, Faridabad, Hary...   \n",
              "\n",
              "                                              Skills  \\\n",
              "0  machine learning, deep learning, computer visi...   \n",
              "1                         machine learning, research   \n",
              "2  machine learning, deep learning, data analysis...   \n",
              "3  machine learning, deep learning, nlp, communic...   \n",
              "4                                      data analysis   \n",
              "\n",
              "                                               Tools  Education  \n",
              "0  python, java, javascript, pandas, numpy, matpl...       None  \n",
              "1                         python, keras, aws, github  Bachelors  \n",
              "2  python, java, sql, mysql, github, linux, flask...  Bachelors  \n",
              "3                         python, c, r, tableau, sql    Masters  \n",
              "4                                    python, java, c       None  "
            ],
            "text/html": [
              "\n",
              "  <div id=\"df-a49208bd-e698-4207-bfdb-d8cb64f6bd45\" class=\"colab-df-container\">\n",
              "    <div>\n",
              "<style scoped>\n",
              "    .dataframe tbody tr th:only-of-type {\n",
              "        vertical-align: middle;\n",
              "    }\n",
              "\n",
              "    .dataframe tbody tr th {\n",
              "        vertical-align: top;\n",
              "    }\n",
              "\n",
              "    .dataframe thead th {\n",
              "        text-align: right;\n",
              "    }\n",
              "</style>\n",
              "<table border=\"1\" class=\"dataframe\">\n",
              "  <thead>\n",
              "    <tr style=\"text-align: right;\">\n",
              "      <th></th>\n",
              "      <th>Resume</th>\n",
              "      <th>Skills</th>\n",
              "      <th>Tools</th>\n",
              "      <th>Education</th>\n",
              "    </tr>\n",
              "  </thead>\n",
              "  <tbody>\n",
              "    <tr>\n",
              "      <th>0</th>\n",
              "      <td>Skills * Programming Languages: Python (pandas...</td>\n",
              "      <td>machine learning, deep learning, computer visi...</td>\n",
              "      <td>python, java, javascript, pandas, numpy, matpl...</td>\n",
              "      <td>None</td>\n",
              "    </tr>\n",
              "    <tr>\n",
              "      <th>1</th>\n",
              "      <td>Education Details May 2013 to May 2017 B.E UIT...</td>\n",
              "      <td>machine learning, research</td>\n",
              "      <td>python, keras, aws, github</td>\n",
              "      <td>Bachelors</td>\n",
              "    </tr>\n",
              "    <tr>\n",
              "      <th>2</th>\n",
              "      <td>Areas of Interest Deep Learning, Control Syste...</td>\n",
              "      <td>machine learning, deep learning, data analysis...</td>\n",
              "      <td>python, java, sql, mysql, github, linux, flask...</td>\n",
              "      <td>Bachelors</td>\n",
              "    </tr>\n",
              "    <tr>\n",
              "      <th>3</th>\n",
              "      <td>Skills R Python SAP HANA Tableau SAP HANA SQL ...</td>\n",
              "      <td>machine learning, deep learning, nlp, communic...</td>\n",
              "      <td>python, c, r, tableau, sql</td>\n",
              "      <td>Masters</td>\n",
              "    </tr>\n",
              "    <tr>\n",
              "      <th>4</th>\n",
              "      <td>Education Details MCA YMCAUST, Faridabad, Hary...</td>\n",
              "      <td>data analysis</td>\n",
              "      <td>python, java, c</td>\n",
              "      <td>None</td>\n",
              "    </tr>\n",
              "  </tbody>\n",
              "</table>\n",
              "</div>\n",
              "    <div class=\"colab-df-buttons\">\n",
              "\n",
              "  <div class=\"colab-df-container\">\n",
              "    <button class=\"colab-df-convert\" onclick=\"convertToInteractive('df-a49208bd-e698-4207-bfdb-d8cb64f6bd45')\"\n",
              "            title=\"Convert this dataframe to an interactive table.\"\n",
              "            style=\"display:none;\">\n",
              "\n",
              "  <svg xmlns=\"http://www.w3.org/2000/svg\" height=\"24px\" viewBox=\"0 -960 960 960\">\n",
              "    <path d=\"M120-120v-720h720v720H120Zm60-500h600v-160H180v160Zm220 220h160v-160H400v160Zm0 220h160v-160H400v160ZM180-400h160v-160H180v160Zm440 0h160v-160H620v160ZM180-180h160v-160H180v160Zm440 0h160v-160H620v160Z\"/>\n",
              "  </svg>\n",
              "    </button>\n",
              "\n",
              "  <style>\n",
              "    .colab-df-container {\n",
              "      display:flex;\n",
              "      gap: 12px;\n",
              "    }\n",
              "\n",
              "    .colab-df-convert {\n",
              "      background-color: #E8F0FE;\n",
              "      border: none;\n",
              "      border-radius: 50%;\n",
              "      cursor: pointer;\n",
              "      display: none;\n",
              "      fill: #1967D2;\n",
              "      height: 32px;\n",
              "      padding: 0 0 0 0;\n",
              "      width: 32px;\n",
              "    }\n",
              "\n",
              "    .colab-df-convert:hover {\n",
              "      background-color: #E2EBFA;\n",
              "      box-shadow: 0px 1px 2px rgba(60, 64, 67, 0.3), 0px 1px 3px 1px rgba(60, 64, 67, 0.15);\n",
              "      fill: #174EA6;\n",
              "    }\n",
              "\n",
              "    .colab-df-buttons div {\n",
              "      margin-bottom: 4px;\n",
              "    }\n",
              "\n",
              "    [theme=dark] .colab-df-convert {\n",
              "      background-color: #3B4455;\n",
              "      fill: #D2E3FC;\n",
              "    }\n",
              "\n",
              "    [theme=dark] .colab-df-convert:hover {\n",
              "      background-color: #434B5C;\n",
              "      box-shadow: 0px 1px 3px 1px rgba(0, 0, 0, 0.15);\n",
              "      filter: drop-shadow(0px 1px 2px rgba(0, 0, 0, 0.3));\n",
              "      fill: #FFFFFF;\n",
              "    }\n",
              "  </style>\n",
              "\n",
              "    <script>\n",
              "      const buttonEl =\n",
              "        document.querySelector('#df-a49208bd-e698-4207-bfdb-d8cb64f6bd45 button.colab-df-convert');\n",
              "      buttonEl.style.display =\n",
              "        google.colab.kernel.accessAllowed ? 'block' : 'none';\n",
              "\n",
              "      async function convertToInteractive(key) {\n",
              "        const element = document.querySelector('#df-a49208bd-e698-4207-bfdb-d8cb64f6bd45');\n",
              "        const dataTable =\n",
              "          await google.colab.kernel.invokeFunction('convertToInteractive',\n",
              "                                                    [key], {});\n",
              "        if (!dataTable) return;\n",
              "\n",
              "        const docLinkHtml = 'Like what you see? Visit the ' +\n",
              "          '<a target=\"_blank\" href=https://colab.research.google.com/notebooks/data_table.ipynb>data table notebook</a>'\n",
              "          + ' to learn more about interactive tables.';\n",
              "        element.innerHTML = '';\n",
              "        dataTable['output_type'] = 'display_data';\n",
              "        await google.colab.output.renderOutput(dataTable, element);\n",
              "        const docLink = document.createElement('div');\n",
              "        docLink.innerHTML = docLinkHtml;\n",
              "        element.appendChild(docLink);\n",
              "      }\n",
              "    </script>\n",
              "  </div>\n",
              "\n",
              "\n",
              "    <div id=\"df-2a6adf98-5685-4c05-aa53-40da5c6279a0\">\n",
              "      <button class=\"colab-df-quickchart\" onclick=\"quickchart('df-2a6adf98-5685-4c05-aa53-40da5c6279a0')\"\n",
              "                title=\"Suggest charts\"\n",
              "                style=\"display:none;\">\n",
              "\n",
              "<svg xmlns=\"http://www.w3.org/2000/svg\" height=\"24px\"viewBox=\"0 0 24 24\"\n",
              "     width=\"24px\">\n",
              "    <g>\n",
              "        <path d=\"M19 3H5c-1.1 0-2 .9-2 2v14c0 1.1.9 2 2 2h14c1.1 0 2-.9 2-2V5c0-1.1-.9-2-2-2zM9 17H7v-7h2v7zm4 0h-2V7h2v10zm4 0h-2v-4h2v4z\"/>\n",
              "    </g>\n",
              "</svg>\n",
              "      </button>\n",
              "\n",
              "<style>\n",
              "  .colab-df-quickchart {\n",
              "      --bg-color: #E8F0FE;\n",
              "      --fill-color: #1967D2;\n",
              "      --hover-bg-color: #E2EBFA;\n",
              "      --hover-fill-color: #174EA6;\n",
              "      --disabled-fill-color: #AAA;\n",
              "      --disabled-bg-color: #DDD;\n",
              "  }\n",
              "\n",
              "  [theme=dark] .colab-df-quickchart {\n",
              "      --bg-color: #3B4455;\n",
              "      --fill-color: #D2E3FC;\n",
              "      --hover-bg-color: #434B5C;\n",
              "      --hover-fill-color: #FFFFFF;\n",
              "      --disabled-bg-color: #3B4455;\n",
              "      --disabled-fill-color: #666;\n",
              "  }\n",
              "\n",
              "  .colab-df-quickchart {\n",
              "    background-color: var(--bg-color);\n",
              "    border: none;\n",
              "    border-radius: 50%;\n",
              "    cursor: pointer;\n",
              "    display: none;\n",
              "    fill: var(--fill-color);\n",
              "    height: 32px;\n",
              "    padding: 0;\n",
              "    width: 32px;\n",
              "  }\n",
              "\n",
              "  .colab-df-quickchart:hover {\n",
              "    background-color: var(--hover-bg-color);\n",
              "    box-shadow: 0 1px 2px rgba(60, 64, 67, 0.3), 0 1px 3px 1px rgba(60, 64, 67, 0.15);\n",
              "    fill: var(--button-hover-fill-color);\n",
              "  }\n",
              "\n",
              "  .colab-df-quickchart-complete:disabled,\n",
              "  .colab-df-quickchart-complete:disabled:hover {\n",
              "    background-color: var(--disabled-bg-color);\n",
              "    fill: var(--disabled-fill-color);\n",
              "    box-shadow: none;\n",
              "  }\n",
              "\n",
              "  .colab-df-spinner {\n",
              "    border: 2px solid var(--fill-color);\n",
              "    border-color: transparent;\n",
              "    border-bottom-color: var(--fill-color);\n",
              "    animation:\n",
              "      spin 1s steps(1) infinite;\n",
              "  }\n",
              "\n",
              "  @keyframes spin {\n",
              "    0% {\n",
              "      border-color: transparent;\n",
              "      border-bottom-color: var(--fill-color);\n",
              "      border-left-color: var(--fill-color);\n",
              "    }\n",
              "    20% {\n",
              "      border-color: transparent;\n",
              "      border-left-color: var(--fill-color);\n",
              "      border-top-color: var(--fill-color);\n",
              "    }\n",
              "    30% {\n",
              "      border-color: transparent;\n",
              "      border-left-color: var(--fill-color);\n",
              "      border-top-color: var(--fill-color);\n",
              "      border-right-color: var(--fill-color);\n",
              "    }\n",
              "    40% {\n",
              "      border-color: transparent;\n",
              "      border-right-color: var(--fill-color);\n",
              "      border-top-color: var(--fill-color);\n",
              "    }\n",
              "    60% {\n",
              "      border-color: transparent;\n",
              "      border-right-color: var(--fill-color);\n",
              "    }\n",
              "    80% {\n",
              "      border-color: transparent;\n",
              "      border-right-color: var(--fill-color);\n",
              "      border-bottom-color: var(--fill-color);\n",
              "    }\n",
              "    90% {\n",
              "      border-color: transparent;\n",
              "      border-bottom-color: var(--fill-color);\n",
              "    }\n",
              "  }\n",
              "</style>\n",
              "\n",
              "      <script>\n",
              "        async function quickchart(key) {\n",
              "          const quickchartButtonEl =\n",
              "            document.querySelector('#' + key + ' button');\n",
              "          quickchartButtonEl.disabled = true;  // To prevent multiple clicks.\n",
              "          quickchartButtonEl.classList.add('colab-df-spinner');\n",
              "          try {\n",
              "            const charts = await google.colab.kernel.invokeFunction(\n",
              "                'suggestCharts', [key], {});\n",
              "          } catch (error) {\n",
              "            console.error('Error during call to suggestCharts:', error);\n",
              "          }\n",
              "          quickchartButtonEl.classList.remove('colab-df-spinner');\n",
              "          quickchartButtonEl.classList.add('colab-df-quickchart-complete');\n",
              "        }\n",
              "        (() => {\n",
              "          let quickchartButtonEl =\n",
              "            document.querySelector('#df-2a6adf98-5685-4c05-aa53-40da5c6279a0 button');\n",
              "          quickchartButtonEl.style.display =\n",
              "            google.colab.kernel.accessAllowed ? 'block' : 'none';\n",
              "        })();\n",
              "      </script>\n",
              "    </div>\n",
              "\n",
              "    </div>\n",
              "  </div>\n"
            ],
            "application/vnd.google.colaboratory.intrinsic+json": {
              "type": "dataframe",
              "summary": "{\n  \"name\": \"df[['Resume', 'Skills', 'Tools', 'Education']]\",\n  \"rows\": 5,\n  \"fields\": [\n    {\n      \"column\": \"Resume\",\n      \"properties\": {\n        \"dtype\": \"string\",\n        \"num_unique_values\": 5,\n        \"samples\": [\n          \"Education Details May 2013 to May 2017 B.E UIT-RGPV Data Scientist Data Scientist - Matelabs Skill Details Python- Exprience - Less than 1 year months Statsmodels- Exprience - 12 months AWS- Exprience - Less than 1 year months Machine learning- Exprience - Less than 1 year months Sklearn- Exprience - Less than 1 year months Scipy- Exprience - Less than 1 year months Keras- Exprience - Less than 1 year monthsCompany Details company - Matelabs description - ML Platform for business professionals, dummies and enthusiasts. 60/A Koramangala 5th block, Achievements/Tasks behind sukh sagar, Bengaluru, India Developed and deployed auto preprocessing steps of machine learning mainly missing value treatment, outlier detection, encoding, scaling, feature selection and dimensionality reduction. Deployed automated classification and regression model. linkedin.com/in/aditya-rathore- b4600b146 Reasearch and deployed the time series forecasting model ARIMA, SARIMAX, Holt-winter and Prophet. Worked on meta-feature extracting problem. github.com/rathorology Implemented a state of the art research paper on outlier detection for mixed attributes. company - Matelabs description -\",\n          \"Education Details MCA YMCAUST, Faridabad, Haryana Data Science internship Skill Details Data Structure- Exprience - Less than 1 year months C- Exprience - Less than 1 year months Data Analysis- Exprience - Less than 1 year months Python- Exprience - Less than 1 year months Core Java- Exprience - Less than 1 year months Database Management- Exprience - Less than 1 year monthsCompany Details company - Itechpower description -\",\n          \"Areas of Interest Deep Learning, Control System Design, Programming in-Python, Electric Machinery, Web Development, Analytics Technical Activities q Hindustan Aeronautics Limited, Bangalore - For 4 weeks under the guidance of Mr. Satish, Senior Engineer in the hangar of Mirage 2000 fighter aircraft Technical Skills Programming Matlab, Python and Java, LabView, Python WebFrameWork-Django, Flask, LTSPICE-intermediate Languages and and MIPOWER-intermediate, Github (GitBash), Jupyter Notebook, Xampp, MySQL-Basics, Python Software Packages Interpreters-Anaconda, Python2, Python3, Pycharm, Java IDE-Eclipse Operating Systems Windows, Ubuntu, Debian-Kali Linux Education Details January 2019 B.Tech. Electrical and Electronics Engineering Manipal Institute of Technology January 2015 DEEKSHA CENTER January 2013 Little Flower Public School August 2000 Manipal Academy of Higher DATA SCIENCE DATA SCIENCE AND ELECTRICAL ENTHUSIAST Skill Details Data Analysis- Exprience - Less than 1 year months excel- Exprience - Less than 1 year months Machine Learning- Exprience - Less than 1 year months mathematics- Exprience - Less than 1 year months Python- Exprience - Less than 1 year months Matlab- Exprience - Less than 1 year months Electrical Engineering- Exprience - Less than 1 year months Sql- Exprience - Less than 1 year monthsCompany Details company - THEMATHCOMPANY description - I am currently working with a Casino based operator(name not to be disclosed) in Macau.I need to segment the customers who visit their property based on the value the patrons bring into the company.Basically prove that the segmentation can be done in much better way than the current system which they have with proper numbers to back it up.Henceforth they can implement target marketing strategy to attract their customers who add value to the business.\"\n        ],\n        \"semantic_type\": \"\",\n        \"description\": \"\"\n      }\n    },\n    {\n      \"column\": \"Skills\",\n      \"properties\": {\n        \"dtype\": \"string\",\n        \"num_unique_values\": 5,\n        \"samples\": [\n          \"machine learning, research\",\n          \"data analysis\",\n          \"machine learning, deep learning, data analysis, web development\"\n        ],\n        \"semantic_type\": \"\",\n        \"description\": \"\"\n      }\n    },\n    {\n      \"column\": \"Tools\",\n      \"properties\": {\n        \"dtype\": \"string\",\n        \"num_unique_values\": 5,\n        \"samples\": [\n          \"python, keras, aws, github\",\n          \"python, java, c\",\n          \"python, java, sql, mysql, github, linux, flask, django, excel\"\n        ],\n        \"semantic_type\": \"\",\n        \"description\": \"\"\n      }\n    },\n    {\n      \"column\": \"Education\",\n      \"properties\": {\n        \"dtype\": \"string\",\n        \"num_unique_values\": 3,\n        \"samples\": [\n          \"None\",\n          \"Bachelors\",\n          \"Masters\"\n        ],\n        \"semantic_type\": \"\",\n        \"description\": \"\"\n      }\n    }\n  ]\n}"
            }
          },
          "metadata": {},
          "execution_count": 55
        }
      ]
    },
    {
      "cell_type": "code",
      "source": [
        "# Check for None in Education\n",
        "df[df['Education'].isna() | (df['Education'] == 'None')]\n",
        "print(df['Education'].isna().sum() + (df['Education'] == 'None').sum())"
      ],
      "metadata": {
        "id": "68AgYAALWdDN",
        "colab": {
          "base_uri": "https://localhost:8080/"
        },
        "outputId": "5a944f5f-a10d-4d8d-a285-f69e902f219c"
      },
      "execution_count": 56,
      "outputs": [
        {
          "output_type": "stream",
          "name": "stdout",
          "text": [
            "44\n"
          ]
        }
      ]
    }
  ]
}